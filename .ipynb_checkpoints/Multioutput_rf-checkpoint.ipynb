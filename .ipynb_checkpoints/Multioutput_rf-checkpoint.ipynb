{
 "cells": [
  {
   "cell_type": "code",
   "execution_count": 1,
   "id": "1439f6e9",
   "metadata": {
    "id": "1439f6e9"
   },
   "outputs": [],
   "source": [
    "import pandas as pd\n",
    "from sklearn.model_selection import train_test_split\n",
    "from sklearn.metrics import confusion_matrix\n",
    "from sklearn.metrics import roc_auc_score,accuracy_score\n",
    "from sklearn.metrics import classification_report\n",
    "from sklearn.datasets import make_multilabel_classification\n",
    "from sklearn.svm import SVC\n",
    "from sklearn.ensemble import RandomForestClassifier\n",
    "from sklearn.multioutput import MultiOutputClassifier"
   ]
  },
  {
   "cell_type": "code",
   "execution_count": 2,
   "id": "94e59010",
   "metadata": {
    "id": "94e59010"
   },
   "outputs": [],
   "source": [
    "data  = pd.read_csv(\"K562_sequenced_data.csv\")"
   ]
  },
  {
   "cell_type": "code",
   "execution_count": 3,
   "id": "d11b4de1",
   "metadata": {
    "id": "d11b4de1"
   },
   "outputs": [],
   "source": [
    "seq = list(data['Sequence'])"
   ]
  },
  {
   "cell_type": "code",
   "execution_count": 4,
   "id": "2742afed",
   "metadata": {
    "id": "2742afed"
   },
   "outputs": [],
   "source": [
    "X_data = []\n",
    "y_target = []"
   ]
  },
  {
   "cell_type": "code",
   "execution_count": 5,
   "id": "16dd5679",
   "metadata": {
    "id": "16dd5679",
    "scrolled": false
   },
   "outputs": [],
   "source": [
    "for i in range(len(data)):\n",
    "    X_data.append([i1 for i1 in seq[i]])\n",
    "    y_target.append(list(data.iloc[i,1:].values))"
   ]
  },
  {
   "cell_type": "code",
   "execution_count": 6,
   "id": "d130ca49",
   "metadata": {
    "colab": {
     "base_uri": "https://localhost:8080/"
    },
    "id": "d130ca49",
    "outputId": "2ee54940-1924-49ef-8547-cbe76e576752"
   },
   "outputs": [
    {
     "data": {
      "text/plain": [
       "(57101, 57101)"
      ]
     },
     "execution_count": 6,
     "metadata": {},
     "output_type": "execute_result"
    }
   ],
   "source": [
    "len(X_data),len(y_target)"
   ]
  },
  {
   "cell_type": "code",
   "execution_count": 7,
   "id": "2QdfiBwzb-aV",
   "metadata": {
    "colab": {
     "base_uri": "https://localhost:8080/"
    },
    "id": "2QdfiBwzb-aV",
    "outputId": "cd7f328b-b17b-49ce-cc1e-eb59c3c7c661"
   },
   "outputs": [
    {
     "name": "stdout",
     "output_type": "stream",
     "text": [
      "['<pad>', 'A', 'C', 'G', 'T', 'a', 'c', 'g', 't']\n",
      "{'<pad>': 0, 'A': 1, 'C': 2, 'G': 3, 'T': 4, 'a': 5, 'c': 6, 'g': 7, 't': 8}\n",
      "{0: '<pad>', 1: 'A', 2: 'C', 3: 'G', 4: 'T', 5: 'a', 6: 'c', 7: 'g', 8: 't'}\n"
     ]
    }
   ],
   "source": [
    "word_list =['<pad>'] + sorted(set(sum(X_data, []))) \n",
    "word2idx = {word:idx for idx, word in enumerate(word_list)}\n",
    "idx2word = {idx:word for idx, word in enumerate(word_list)}\n",
    "\n",
    "print(word_list)\n",
    "print(word2idx)\n",
    "print(idx2word)"
   ]
  },
  {
   "cell_type": "code",
   "execution_count": 8,
   "id": "RhGtZqCzePg6",
   "metadata": {
    "colab": {
     "base_uri": "https://localhost:8080/"
    },
    "id": "RhGtZqCzePg6",
    "outputId": "c54be39b-5d45-4f2e-c7ca-4c04e161d07d"
   },
   "outputs": [
    {
     "name": "stdout",
     "output_type": "stream",
     "text": [
      "['<pad>', 0, 1]\n",
      "{'<pad>': 0, 0: 1, 1: 2}\n",
      "{0: '<pad>', 1: 0, 2: 1}\n"
     ]
    }
   ],
   "source": [
    "pos_list = ['<pad>'] + sorted(set(sum(y_target, [])))\n",
    "pos2idx = {pos:idx for idx, pos in enumerate(pos_list)}\n",
    "idx2pos = {idx:pos for idx, pos in enumerate(pos_list)}\n",
    "\n",
    "print(pos_list)\n",
    "print(pos2idx)\n",
    "print(idx2pos)"
   ]
  },
  {
   "cell_type": "code",
   "execution_count": 9,
   "id": "5fdP2YvaePd6",
   "metadata": {
    "id": "5fdP2YvaePd6"
   },
   "outputs": [],
   "source": [
    "X = list(map(lambda sentence: [word2idx.get(token) for token in sentence], X_data))\n",
    "y = list(map(lambda sentence: [pos2idx.get(token) for token in sentence], y_target))"
   ]
  },
  {
   "cell_type": "code",
   "execution_count": 10,
   "id": "niIEUxWLpaqy",
   "metadata": {
    "id": "niIEUxWLpaqy"
   },
   "outputs": [],
   "source": [
    "max1 = 0\n",
    "for i in X:\n",
    "    if max1<len(i):\n",
    "        max1 = len(i)"
   ]
  },
  {
   "cell_type": "code",
   "execution_count": 11,
   "id": "47_hXZXqpU7r",
   "metadata": {
    "id": "47_hXZXqpU7r"
   },
   "outputs": [],
   "source": [
    "from tensorflow.keras.preprocessing.sequence import pad_sequences\n",
    "import numpy as np\n",
    "X = pad_sequences(X, maxlen=max1, padding='post')\n",
    "X_mask = (X != 0).astype(np.float32)\n",
    "X_len = np.array(list((map(lambda sentence: len(sentence), X_data))), dtype=np.float32)"
   ]
  },
  {
   "cell_type": "code",
   "execution_count": 12,
   "id": "Yst5T--7pU5K",
   "metadata": {
    "id": "Yst5T--7pU5K"
   },
   "outputs": [],
   "source": [
    "y = pad_sequences(y, maxlen=30, padding='post')"
   ]
  },
  {
   "cell_type": "code",
   "execution_count": 13,
   "id": "t_jThgM_ZCuU",
   "metadata": {
    "colab": {
     "base_uri": "https://localhost:8080/"
    },
    "id": "t_jThgM_ZCuU",
    "outputId": "89c557c8-4fbf-4138-8f95-05815f7a02cb"
   },
   "outputs": [
    {
     "name": "stdout",
     "output_type": "stream",
     "text": [
      "11421\n"
     ]
    }
   ],
   "source": [
    "xtrain, xtest, ytrain, ytest=train_test_split(X, y, train_size=0.80, random_state=0)\n",
    "print(len(xtest))"
   ]
  },
  {
   "cell_type": "code",
   "execution_count": 14,
   "id": "a4a7796e",
   "metadata": {
    "id": "a4a7796e"
   },
   "outputs": [],
   "source": [
    "rf = RandomForestClassifier()\n",
    "model = MultiOutputClassifier(estimator=rf)"
   ]
  },
  {
   "cell_type": "code",
   "execution_count": 15,
   "id": "2387b4cd",
   "metadata": {
    "colab": {
     "base_uri": "https://localhost:8080/"
    },
    "id": "2387b4cd",
    "outputId": "23099127-a7ac-464a-f587-e084085dde80"
   },
   "outputs": [
    {
     "data": {
      "text/html": [
       "<style>#sk-container-id-1 {color: black;background-color: white;}#sk-container-id-1 pre{padding: 0;}#sk-container-id-1 div.sk-toggleable {background-color: white;}#sk-container-id-1 label.sk-toggleable__label {cursor: pointer;display: block;width: 100%;margin-bottom: 0;padding: 0.3em;box-sizing: border-box;text-align: center;}#sk-container-id-1 label.sk-toggleable__label-arrow:before {content: \"▸\";float: left;margin-right: 0.25em;color: #696969;}#sk-container-id-1 label.sk-toggleable__label-arrow:hover:before {color: black;}#sk-container-id-1 div.sk-estimator:hover label.sk-toggleable__label-arrow:before {color: black;}#sk-container-id-1 div.sk-toggleable__content {max-height: 0;max-width: 0;overflow: hidden;text-align: left;background-color: #f0f8ff;}#sk-container-id-1 div.sk-toggleable__content pre {margin: 0.2em;color: black;border-radius: 0.25em;background-color: #f0f8ff;}#sk-container-id-1 input.sk-toggleable__control:checked~div.sk-toggleable__content {max-height: 200px;max-width: 100%;overflow: auto;}#sk-container-id-1 input.sk-toggleable__control:checked~label.sk-toggleable__label-arrow:before {content: \"▾\";}#sk-container-id-1 div.sk-estimator input.sk-toggleable__control:checked~label.sk-toggleable__label {background-color: #d4ebff;}#sk-container-id-1 div.sk-label input.sk-toggleable__control:checked~label.sk-toggleable__label {background-color: #d4ebff;}#sk-container-id-1 input.sk-hidden--visually {border: 0;clip: rect(1px 1px 1px 1px);clip: rect(1px, 1px, 1px, 1px);height: 1px;margin: -1px;overflow: hidden;padding: 0;position: absolute;width: 1px;}#sk-container-id-1 div.sk-estimator {font-family: monospace;background-color: #f0f8ff;border: 1px dotted black;border-radius: 0.25em;box-sizing: border-box;margin-bottom: 0.5em;}#sk-container-id-1 div.sk-estimator:hover {background-color: #d4ebff;}#sk-container-id-1 div.sk-parallel-item::after {content: \"\";width: 100%;border-bottom: 1px solid gray;flex-grow: 1;}#sk-container-id-1 div.sk-label:hover label.sk-toggleable__label {background-color: #d4ebff;}#sk-container-id-1 div.sk-serial::before {content: \"\";position: absolute;border-left: 1px solid gray;box-sizing: border-box;top: 0;bottom: 0;left: 50%;z-index: 0;}#sk-container-id-1 div.sk-serial {display: flex;flex-direction: column;align-items: center;background-color: white;padding-right: 0.2em;padding-left: 0.2em;position: relative;}#sk-container-id-1 div.sk-item {position: relative;z-index: 1;}#sk-container-id-1 div.sk-parallel {display: flex;align-items: stretch;justify-content: center;background-color: white;position: relative;}#sk-container-id-1 div.sk-item::before, #sk-container-id-1 div.sk-parallel-item::before {content: \"\";position: absolute;border-left: 1px solid gray;box-sizing: border-box;top: 0;bottom: 0;left: 50%;z-index: -1;}#sk-container-id-1 div.sk-parallel-item {display: flex;flex-direction: column;z-index: 1;position: relative;background-color: white;}#sk-container-id-1 div.sk-parallel-item:first-child::after {align-self: flex-end;width: 50%;}#sk-container-id-1 div.sk-parallel-item:last-child::after {align-self: flex-start;width: 50%;}#sk-container-id-1 div.sk-parallel-item:only-child::after {width: 0;}#sk-container-id-1 div.sk-dashed-wrapped {border: 1px dashed gray;margin: 0 0.4em 0.5em 0.4em;box-sizing: border-box;padding-bottom: 0.4em;background-color: white;}#sk-container-id-1 div.sk-label label {font-family: monospace;font-weight: bold;display: inline-block;line-height: 1.2em;}#sk-container-id-1 div.sk-label-container {text-align: center;}#sk-container-id-1 div.sk-container {/* jupyter's `normalize.less` sets `[hidden] { display: none; }` but bootstrap.min.css set `[hidden] { display: none !important; }` so we also need the `!important` here to be able to override the default hidden behavior on the sphinx rendered scikit-learn.org. See: https://github.com/scikit-learn/scikit-learn/issues/21755 */display: inline-block !important;position: relative;}#sk-container-id-1 div.sk-text-repr-fallback {display: none;}</style><div id=\"sk-container-id-1\" class=\"sk-top-container\"><div class=\"sk-text-repr-fallback\"><pre>MultiOutputClassifier(estimator=RandomForestClassifier())</pre><b>In a Jupyter environment, please rerun this cell to show the HTML representation or trust the notebook. <br />On GitHub, the HTML representation is unable to render, please try loading this page with nbviewer.org.</b></div><div class=\"sk-container\" hidden><div class=\"sk-item sk-dashed-wrapped\"><div class=\"sk-label-container\"><div class=\"sk-label sk-toggleable\"><input class=\"sk-toggleable__control sk-hidden--visually\" id=\"sk-estimator-id-1\" type=\"checkbox\" ><label for=\"sk-estimator-id-1\" class=\"sk-toggleable__label sk-toggleable__label-arrow\">MultiOutputClassifier</label><div class=\"sk-toggleable__content\"><pre>MultiOutputClassifier(estimator=RandomForestClassifier())</pre></div></div></div><div class=\"sk-parallel\"><div class=\"sk-parallel-item\"><div class=\"sk-item\"><div class=\"sk-label-container\"><div class=\"sk-label sk-toggleable\"><input class=\"sk-toggleable__control sk-hidden--visually\" id=\"sk-estimator-id-2\" type=\"checkbox\" ><label for=\"sk-estimator-id-2\" class=\"sk-toggleable__label sk-toggleable__label-arrow\">estimator: RandomForestClassifier</label><div class=\"sk-toggleable__content\"><pre>RandomForestClassifier()</pre></div></div></div><div class=\"sk-serial\"><div class=\"sk-item\"><div class=\"sk-estimator sk-toggleable\"><input class=\"sk-toggleable__control sk-hidden--visually\" id=\"sk-estimator-id-3\" type=\"checkbox\" ><label for=\"sk-estimator-id-3\" class=\"sk-toggleable__label sk-toggleable__label-arrow\">RandomForestClassifier</label><div class=\"sk-toggleable__content\"><pre>RandomForestClassifier()</pre></div></div></div></div></div></div></div></div></div></div>"
      ],
      "text/plain": [
       "MultiOutputClassifier(estimator=RandomForestClassifier())"
      ]
     },
     "execution_count": 15,
     "metadata": {},
     "output_type": "execute_result"
    }
   ],
   "source": [
    "model.fit(xtrain, ytrain)"
   ]
  },
  {
   "cell_type": "code",
   "execution_count": 16,
   "id": "abd79972",
   "metadata": {
    "id": "abd79972"
   },
   "outputs": [],
   "source": [
    "yhat = model.predict(xtest)"
   ]
  },
  {
   "cell_type": "code",
   "execution_count": 17,
   "id": "07e25708",
   "metadata": {
    "colab": {
     "base_uri": "https://localhost:8080/"
    },
    "id": "07e25708",
    "outputId": "d272ecc3-9781-4cdd-87b2-3c1b96b47939"
   },
   "outputs": [
    {
     "data": {
      "text/plain": [
       "(11421, 11421)"
      ]
     },
     "execution_count": 17,
     "metadata": {},
     "output_type": "execute_result"
    }
   ],
   "source": [
    "len(ytest),len(yhat)"
   ]
  },
  {
   "cell_type": "code",
   "execution_count": 22,
   "id": "5408b681",
   "metadata": {},
   "outputs": [],
   "source": [
    "probabilities = model.predict_proba(xtest)"
   ]
  },
  {
   "cell_type": "code",
   "execution_count": 29,
   "id": "023e53ef",
   "metadata": {},
   "outputs": [
    {
     "data": {
      "text/plain": [
       "30"
      ]
     },
     "execution_count": 29,
     "metadata": {},
     "output_type": "execute_result"
    }
   ],
   "source": [
    "len(probabilities)"
   ]
  },
  {
   "cell_type": "code",
   "execution_count": 27,
   "id": "12967000",
   "metadata": {},
   "outputs": [
    {
     "data": {
      "text/plain": [
       "(11421, 2)"
      ]
     },
     "execution_count": 27,
     "metadata": {},
     "output_type": "execute_result"
    }
   ],
   "source": [
    "probabilities[0].shape"
   ]
  },
  {
   "cell_type": "code",
   "execution_count": 33,
   "id": "e0bb52cd",
   "metadata": {},
   "outputs": [
    {
     "data": {
      "text/plain": [
       "array([[0.77, 0.89, 0.95, ..., 0.88, 0.75, 0.74],\n",
       "       [0.23, 0.11, 0.05, ..., 0.12, 0.25, 0.26]])"
      ]
     },
     "execution_count": 33,
     "metadata": {},
     "output_type": "execute_result"
    }
   ],
   "source": [
    "probabilities[0].T"
   ]
  },
  {
   "cell_type": "code",
   "execution_count": 18,
   "id": "51107f1e",
   "metadata": {
    "id": "51107f1e"
   },
   "outputs": [],
   "source": [
    "acc = []\n",
    "for i in range(len(ytest)):\n",
    "    acc.append(accuracy_score(ytest[i],yhat[i]))"
   ]
  },
  {
   "cell_type": "code",
   "execution_count": 19,
   "id": "6fccd4a8",
   "metadata": {
    "colab": {
     "base_uri": "https://localhost:8080/"
    },
    "id": "6fccd4a8",
    "outputId": "60f3d111-c14a-463c-bab0-4c4c3afa196f"
   },
   "outputs": [
    {
     "name": "stdout",
     "output_type": "stream",
     "text": [
      "Test Accuracy :  0.924901497241804\n"
     ]
    }
   ],
   "source": [
    "print(\"Test Accuracy : \", sum(acc)/len(acc))"
   ]
  },
  {
   "cell_type": "code",
   "execution_count": 19,
   "id": "OZqiIxt0sxb1",
   "metadata": {
    "id": "OZqiIxt0sxb1"
   },
   "outputs": [],
   "source": []
  }
 ],
 "metadata": {
  "accelerator": "GPU",
  "colab": {
   "provenance": []
  },
  "gpuClass": "standard",
  "kernelspec": {
   "display_name": "Python 3 (ipykernel)",
   "language": "python",
   "name": "python3"
  },
  "language_info": {
   "codemirror_mode": {
    "name": "ipython",
    "version": 3
   },
   "file_extension": ".py",
   "mimetype": "text/x-python",
   "name": "python",
   "nbconvert_exporter": "python",
   "pygments_lexer": "ipython3",
   "version": "3.9.7"
  }
 },
 "nbformat": 4,
 "nbformat_minor": 5
}
